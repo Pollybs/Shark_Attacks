{
 "cells": [
  {
   "cell_type": "markdown",
   "metadata": {},
   "source": [
    "# Quest 2 : Shark Attacks\n",
    "\n",
    "\n",
    "### Dream Team:\n",
    "\n",
    "- <em>Karina</em>\n",
    "- <em>Pollyana</em>\n",
    "- <em>Salim</em>\n",
    "- <em>Jules</em>"
   ]
  },
  {
   "cell_type": "markdown",
   "metadata": {},
   "source": [
    "# Business\n",
    "\n",
    "\n"
   ]
  },
  {
   "cell_type": "markdown",
   "metadata": {},
   "source": [
    "## <font color='DarkBlue'>I. <ins>Prerequisites</ins>: <font color='blue'></font>"
   ]
  },
  {
   "cell_type": "markdown",
   "metadata": {},
   "source": [
    "### <font color='MediumBlue'>1 - <ins>Identifying the dataset source</ins>: <font color='violet'></font>"
   ]
  },
  {
   "cell_type": "markdown",
   "metadata": {},
   "source": [
    "<ins><strong>Data Source: </strong></ins>"
   ]
  },
  {
   "cell_type": "code",
   "execution_count": 29,
   "metadata": {},
   "outputs": [],
   "source": [
    "sharks = \"GSAF5.xls\""
   ]
  },
  {
   "cell_type": "code",
   "execution_count": 30,
   "metadata": {},
   "outputs": [],
   "source": [
    "source = sharks"
   ]
  },
  {
   "cell_type": "markdown",
   "metadata": {},
   "source": [
    "### <font color='MediumBlue'>2 - <ins> Importing libraries</ins>: <font color='violet'></font>"
   ]
  },
  {
   "cell_type": "markdown",
   "metadata": {},
   "source": [
    "<strong>pandas</strong>"
   ]
  },
  {
   "cell_type": "code",
   "execution_count": 31,
   "metadata": {},
   "outputs": [],
   "source": [
    "import pandas as pd\n",
    "import numpy as np\n",
    "import datetime as dt"
   ]
  },
  {
   "cell_type": "markdown",
   "metadata": {},
   "source": [
    "### <font color='MediumBlue'>3 - <ins>  Loading the dataset into a DataFrame</ins>: <font color='violet'></font>"
   ]
  },
  {
   "cell_type": "code",
   "execution_count": 33,
   "metadata": {},
   "outputs": [
    {
     "ename": "SyntaxError",
     "evalue": "invalid syntax (1217995687.py, line 2)",
     "output_type": "error",
     "traceback": [
      "\u001b[1;36m  Cell \u001b[1;32mIn[33], line 2\u001b[1;36m\u001b[0m\n\u001b[1;33m    pip install xlrd\u001b[0m\n\u001b[1;37m        ^\u001b[0m\n\u001b[1;31mSyntaxError\u001b[0m\u001b[1;31m:\u001b[0m invalid syntax\n"
     ]
    }
   ],
   "source": [
    "df = pd.read_excel(source)\n"
   ]
  },
  {
   "cell_type": "code",
   "execution_count": 35,
   "id": "d11b9c1c",
   "metadata": {},
   "outputs": [
    {
     "name": "stdout",
     "output_type": "stream",
     "text": [
      "Requirement already satisfied: xlrd in c:\\users\\rober\\appdata\\local\\programs\\python\\python39\\lib\\site-packages (2.0.1)Note: you may need to restart the kernel to use updated packages.\n",
      "\n"
     ]
    },
    {
     "name": "stderr",
     "output_type": "stream",
     "text": [
      "WARNING: You are using pip version 21.1.1; however, version 23.3.1 is available.\n",
      "You should consider upgrading via the 'c:\\Users\\rober\\AppData\\Local\\Programs\\Python\\Python39\\python.exe -m pip install --upgrade pip' command.\n"
     ]
    }
   ],
   "source": [
    "pip install xlrd"
   ]
  },
  {
   "cell_type": "code",
   "execution_count": 36,
   "id": "53a87cd2",
   "metadata": {},
   "outputs": [],
   "source": [
    "df = pd.read_excel(source)\n"
   ]
  },
  {
   "cell_type": "code",
   "execution_count": 37,
   "id": "a1d4db98",
   "metadata": {},
   "outputs": [
    {
     "data": {
      "text/html": [
       "<div>\n",
       "<style scoped>\n",
       "    .dataframe tbody tr th:only-of-type {\n",
       "        vertical-align: middle;\n",
       "    }\n",
       "\n",
       "    .dataframe tbody tr th {\n",
       "        vertical-align: top;\n",
       "    }\n",
       "\n",
       "    .dataframe thead th {\n",
       "        text-align: right;\n",
       "    }\n",
       "</style>\n",
       "<table border=\"1\" class=\"dataframe\">\n",
       "  <thead>\n",
       "    <tr style=\"text-align: right;\">\n",
       "      <th></th>\n",
       "      <th>Date</th>\n",
       "      <th>Year</th>\n",
       "      <th>Type</th>\n",
       "      <th>Country</th>\n",
       "      <th>State</th>\n",
       "      <th>Location</th>\n",
       "      <th>Activity</th>\n",
       "      <th>Name</th>\n",
       "      <th>Sex</th>\n",
       "      <th>Age</th>\n",
       "      <th>...</th>\n",
       "      <th>Species</th>\n",
       "      <th>Source</th>\n",
       "      <th>pdf</th>\n",
       "      <th>href formula</th>\n",
       "      <th>href</th>\n",
       "      <th>Case Number</th>\n",
       "      <th>Case Number.1</th>\n",
       "      <th>original order</th>\n",
       "      <th>Unnamed: 21</th>\n",
       "      <th>Unnamed: 22</th>\n",
       "    </tr>\n",
       "  </thead>\n",
       "  <tbody>\n",
       "    <tr>\n",
       "      <th>0</th>\n",
       "      <td>08 Dec-2023</td>\n",
       "      <td>2023.0</td>\n",
       "      <td>Unprovoked</td>\n",
       "      <td>AUSTRALIA</td>\n",
       "      <td>Queensland</td>\n",
       "      <td>1770</td>\n",
       "      <td>Swimming</td>\n",
       "      <td>malle</td>\n",
       "      <td>20s</td>\n",
       "      <td>NaN</td>\n",
       "      <td>...</td>\n",
       "      <td>NaN</td>\n",
       "      <td>B. Myatt, GSAF</td>\n",
       "      <td>NaN</td>\n",
       "      <td>NaN</td>\n",
       "      <td>NaN</td>\n",
       "      <td>NaN</td>\n",
       "      <td>NaN</td>\n",
       "      <td>NaN</td>\n",
       "      <td>NaN</td>\n",
       "      <td>NaN</td>\n",
       "    </tr>\n",
       "    <tr>\n",
       "      <th>1</th>\n",
       "      <td>04 Dec-2023</td>\n",
       "      <td>2023.0</td>\n",
       "      <td>Unprovoked</td>\n",
       "      <td>BAHAMAS</td>\n",
       "      <td>New Providence   Isoad</td>\n",
       "      <td>Sandals Resort</td>\n",
       "      <td>Paddle boarding</td>\n",
       "      <td>Lauren Erickson Van Wart</td>\n",
       "      <td>F</td>\n",
       "      <td>44</td>\n",
       "      <td>...</td>\n",
       "      <td>NaN</td>\n",
       "      <td>NBC News, 12/4/2023</td>\n",
       "      <td>NaN</td>\n",
       "      <td>NaN</td>\n",
       "      <td>NaN</td>\n",
       "      <td>NaN</td>\n",
       "      <td>NaN</td>\n",
       "      <td>NaN</td>\n",
       "      <td>NaN</td>\n",
       "      <td>NaN</td>\n",
       "    </tr>\n",
       "    <tr>\n",
       "      <th>2</th>\n",
       "      <td>02 Dec-2023</td>\n",
       "      <td>2023.0</td>\n",
       "      <td>Unprovoked</td>\n",
       "      <td>MEXICO</td>\n",
       "      <td>Jalisco</td>\n",
       "      <td>San Patricio Melaque</td>\n",
       "      <td>Swimming</td>\n",
       "      <td>Maria Fernandez Martinez Jimenez</td>\n",
       "      <td>F</td>\n",
       "      <td>26</td>\n",
       "      <td>...</td>\n",
       "      <td>NaN</td>\n",
       "      <td>News Channel 21, 12/3.2023</td>\n",
       "      <td>NaN</td>\n",
       "      <td>NaN</td>\n",
       "      <td>NaN</td>\n",
       "      <td>NaN</td>\n",
       "      <td>NaN</td>\n",
       "      <td>NaN</td>\n",
       "      <td>NaN</td>\n",
       "      <td>NaN</td>\n",
       "    </tr>\n",
       "    <tr>\n",
       "      <th>3</th>\n",
       "      <td>30 Nov-2023</td>\n",
       "      <td>2023.0</td>\n",
       "      <td>Unprovoked</td>\n",
       "      <td>AUSTRALIA</td>\n",
       "      <td>Queensland</td>\n",
       "      <td>Clack Island</td>\n",
       "      <td>Swimming</td>\n",
       "      <td>Matthew Davitt</td>\n",
       "      <td>M</td>\n",
       "      <td>21</td>\n",
       "      <td>...</td>\n",
       "      <td>1.8m bull shark</td>\n",
       "      <td>ABC Net, 11/30/2023</td>\n",
       "      <td>NaN</td>\n",
       "      <td>NaN</td>\n",
       "      <td>NaN</td>\n",
       "      <td>NaN</td>\n",
       "      <td>NaN</td>\n",
       "      <td>NaN</td>\n",
       "      <td>NaN</td>\n",
       "      <td>NaN</td>\n",
       "    </tr>\n",
       "    <tr>\n",
       "      <th>4</th>\n",
       "      <td>21 Nov-2023</td>\n",
       "      <td>2023.0</td>\n",
       "      <td>Unprovoked</td>\n",
       "      <td>BAHAMAS</td>\n",
       "      <td>Grand  Bahama Island</td>\n",
       "      <td>Tiger Beach</td>\n",
       "      <td>Scuba diving</td>\n",
       "      <td>female</td>\n",
       "      <td>F</td>\n",
       "      <td>47</td>\n",
       "      <td>...</td>\n",
       "      <td>NaN</td>\n",
       "      <td>Eye Witness News, 11/22/2023</td>\n",
       "      <td>NaN</td>\n",
       "      <td>NaN</td>\n",
       "      <td>NaN</td>\n",
       "      <td>NaN</td>\n",
       "      <td>NaN</td>\n",
       "      <td>NaN</td>\n",
       "      <td>NaN</td>\n",
       "      <td>NaN</td>\n",
       "    </tr>\n",
       "  </tbody>\n",
       "</table>\n",
       "<p>5 rows × 23 columns</p>\n",
       "</div>"
      ],
      "text/plain": [
       "          Date    Year        Type    Country                   State  \\\n",
       "0  08 Dec-2023  2023.0  Unprovoked  AUSTRALIA              Queensland   \n",
       "1  04 Dec-2023  2023.0  Unprovoked    BAHAMAS  New Providence   Isoad   \n",
       "2  02 Dec-2023  2023.0  Unprovoked     MEXICO                 Jalisco   \n",
       "3  30 Nov-2023  2023.0  Unprovoked  AUSTRALIA              Queensland   \n",
       "4  21 Nov-2023  2023.0  Unprovoked    BAHAMAS    Grand  Bahama Island   \n",
       "\n",
       "               Location         Activity                              Name  \\\n",
       "0                 1770          Swimming                             malle   \n",
       "1        Sandals Resort  Paddle boarding          Lauren Erickson Van Wart   \n",
       "2  San Patricio Melaque         Swimming  Maria Fernandez Martinez Jimenez   \n",
       "3          Clack Island         Swimming                    Matthew Davitt   \n",
       "4           Tiger Beach     Scuba diving                            female   \n",
       "\n",
       "   Sex  Age  ...         Species                         Source  pdf  \\\n",
       "0  20s  NaN  ...              NaN                B. Myatt, GSAF  NaN   \n",
       "1    F   44  ...              NaN           NBC News, 12/4/2023  NaN   \n",
       "2    F   26  ...              NaN    News Channel 21, 12/3.2023  NaN   \n",
       "3    M   21  ...  1.8m bull shark           ABC Net, 11/30/2023  NaN   \n",
       "4    F   47  ...              NaN  Eye Witness News, 11/22/2023  NaN   \n",
       "\n",
       "  href formula href Case Number Case Number.1 original order Unnamed: 21  \\\n",
       "0          NaN  NaN         NaN           NaN            NaN         NaN   \n",
       "1          NaN  NaN         NaN           NaN            NaN         NaN   \n",
       "2          NaN  NaN         NaN           NaN            NaN         NaN   \n",
       "3          NaN  NaN         NaN           NaN            NaN         NaN   \n",
       "4          NaN  NaN         NaN           NaN            NaN         NaN   \n",
       "\n",
       "  Unnamed: 22  \n",
       "0         NaN  \n",
       "1         NaN  \n",
       "2         NaN  \n",
       "3         NaN  \n",
       "4         NaN  \n",
       "\n",
       "[5 rows x 23 columns]"
      ]
     },
     "execution_count": 37,
     "metadata": {},
     "output_type": "execute_result"
    }
   ],
   "source": [
    "df.head()"
   ]
  },
  {
   "cell_type": "markdown",
   "metadata": {},
   "source": [
    "##  <font color='DarkBlue'>II. <ins>Exploring the Dataset</ins>: <font color='blue'></font>"
   ]
  },
  {
   "cell_type": "markdown",
   "metadata": {},
   "source": [
    "### <font color='MediumBlue'>1 - <ins> Dataset Overview</ins>: <font color='violet'></font>"
   ]
  },
  {
   "cell_type": "markdown",
   "metadata": {},
   "source": [
    "#### <font color='CornflowerBlue'>a) Displaying number of rows and number of columns: </font>"
   ]
  },
  {
   "cell_type": "code",
   "execution_count": 38,
   "metadata": {
    "scrolled": false
   },
   "outputs": [
    {
     "data": {
      "text/plain": [
       "(6947, 23)"
      ]
     },
     "execution_count": 38,
     "metadata": {},
     "output_type": "execute_result"
    }
   ],
   "source": [
    "df.shape"
   ]
  },
  {
   "cell_type": "markdown",
   "metadata": {},
   "source": [
    "#### <font color='CornflowerBlue'>b) Glancing at the dataset: </font>"
   ]
  },
  {
   "cell_type": "markdown",
   "metadata": {},
   "source": [
    "<ins><strong>Displaying the first rows : </strong></ins>"
   ]
  },
  {
   "cell_type": "code",
   "execution_count": 39,
   "metadata": {},
   "outputs": [
    {
     "data": {
      "text/html": [
       "<div>\n",
       "<style scoped>\n",
       "    .dataframe tbody tr th:only-of-type {\n",
       "        vertical-align: middle;\n",
       "    }\n",
       "\n",
       "    .dataframe tbody tr th {\n",
       "        vertical-align: top;\n",
       "    }\n",
       "\n",
       "    .dataframe thead th {\n",
       "        text-align: right;\n",
       "    }\n",
       "</style>\n",
       "<table border=\"1\" class=\"dataframe\">\n",
       "  <thead>\n",
       "    <tr style=\"text-align: right;\">\n",
       "      <th></th>\n",
       "      <th>Date</th>\n",
       "      <th>Year</th>\n",
       "      <th>Type</th>\n",
       "      <th>Country</th>\n",
       "      <th>State</th>\n",
       "      <th>Location</th>\n",
       "      <th>Activity</th>\n",
       "      <th>Name</th>\n",
       "      <th>Sex</th>\n",
       "      <th>Age</th>\n",
       "      <th>...</th>\n",
       "      <th>Species</th>\n",
       "      <th>Source</th>\n",
       "      <th>pdf</th>\n",
       "      <th>href formula</th>\n",
       "      <th>href</th>\n",
       "      <th>Case Number</th>\n",
       "      <th>Case Number.1</th>\n",
       "      <th>original order</th>\n",
       "      <th>Unnamed: 21</th>\n",
       "      <th>Unnamed: 22</th>\n",
       "    </tr>\n",
       "  </thead>\n",
       "  <tbody>\n",
       "    <tr>\n",
       "      <th>0</th>\n",
       "      <td>08 Dec-2023</td>\n",
       "      <td>2023.0</td>\n",
       "      <td>Unprovoked</td>\n",
       "      <td>AUSTRALIA</td>\n",
       "      <td>Queensland</td>\n",
       "      <td>1770</td>\n",
       "      <td>Swimming</td>\n",
       "      <td>malle</td>\n",
       "      <td>20s</td>\n",
       "      <td>NaN</td>\n",
       "      <td>...</td>\n",
       "      <td>NaN</td>\n",
       "      <td>B. Myatt, GSAF</td>\n",
       "      <td>NaN</td>\n",
       "      <td>NaN</td>\n",
       "      <td>NaN</td>\n",
       "      <td>NaN</td>\n",
       "      <td>NaN</td>\n",
       "      <td>NaN</td>\n",
       "      <td>NaN</td>\n",
       "      <td>NaN</td>\n",
       "    </tr>\n",
       "    <tr>\n",
       "      <th>1</th>\n",
       "      <td>04 Dec-2023</td>\n",
       "      <td>2023.0</td>\n",
       "      <td>Unprovoked</td>\n",
       "      <td>BAHAMAS</td>\n",
       "      <td>New Providence   Isoad</td>\n",
       "      <td>Sandals Resort</td>\n",
       "      <td>Paddle boarding</td>\n",
       "      <td>Lauren Erickson Van Wart</td>\n",
       "      <td>F</td>\n",
       "      <td>44</td>\n",
       "      <td>...</td>\n",
       "      <td>NaN</td>\n",
       "      <td>NBC News, 12/4/2023</td>\n",
       "      <td>NaN</td>\n",
       "      <td>NaN</td>\n",
       "      <td>NaN</td>\n",
       "      <td>NaN</td>\n",
       "      <td>NaN</td>\n",
       "      <td>NaN</td>\n",
       "      <td>NaN</td>\n",
       "      <td>NaN</td>\n",
       "    </tr>\n",
       "    <tr>\n",
       "      <th>2</th>\n",
       "      <td>02 Dec-2023</td>\n",
       "      <td>2023.0</td>\n",
       "      <td>Unprovoked</td>\n",
       "      <td>MEXICO</td>\n",
       "      <td>Jalisco</td>\n",
       "      <td>San Patricio Melaque</td>\n",
       "      <td>Swimming</td>\n",
       "      <td>Maria Fernandez Martinez Jimenez</td>\n",
       "      <td>F</td>\n",
       "      <td>26</td>\n",
       "      <td>...</td>\n",
       "      <td>NaN</td>\n",
       "      <td>News Channel 21, 12/3.2023</td>\n",
       "      <td>NaN</td>\n",
       "      <td>NaN</td>\n",
       "      <td>NaN</td>\n",
       "      <td>NaN</td>\n",
       "      <td>NaN</td>\n",
       "      <td>NaN</td>\n",
       "      <td>NaN</td>\n",
       "      <td>NaN</td>\n",
       "    </tr>\n",
       "    <tr>\n",
       "      <th>3</th>\n",
       "      <td>30 Nov-2023</td>\n",
       "      <td>2023.0</td>\n",
       "      <td>Unprovoked</td>\n",
       "      <td>AUSTRALIA</td>\n",
       "      <td>Queensland</td>\n",
       "      <td>Clack Island</td>\n",
       "      <td>Swimming</td>\n",
       "      <td>Matthew Davitt</td>\n",
       "      <td>M</td>\n",
       "      <td>21</td>\n",
       "      <td>...</td>\n",
       "      <td>1.8m bull shark</td>\n",
       "      <td>ABC Net, 11/30/2023</td>\n",
       "      <td>NaN</td>\n",
       "      <td>NaN</td>\n",
       "      <td>NaN</td>\n",
       "      <td>NaN</td>\n",
       "      <td>NaN</td>\n",
       "      <td>NaN</td>\n",
       "      <td>NaN</td>\n",
       "      <td>NaN</td>\n",
       "    </tr>\n",
       "    <tr>\n",
       "      <th>4</th>\n",
       "      <td>21 Nov-2023</td>\n",
       "      <td>2023.0</td>\n",
       "      <td>Unprovoked</td>\n",
       "      <td>BAHAMAS</td>\n",
       "      <td>Grand  Bahama Island</td>\n",
       "      <td>Tiger Beach</td>\n",
       "      <td>Scuba diving</td>\n",
       "      <td>female</td>\n",
       "      <td>F</td>\n",
       "      <td>47</td>\n",
       "      <td>...</td>\n",
       "      <td>NaN</td>\n",
       "      <td>Eye Witness News, 11/22/2023</td>\n",
       "      <td>NaN</td>\n",
       "      <td>NaN</td>\n",
       "      <td>NaN</td>\n",
       "      <td>NaN</td>\n",
       "      <td>NaN</td>\n",
       "      <td>NaN</td>\n",
       "      <td>NaN</td>\n",
       "      <td>NaN</td>\n",
       "    </tr>\n",
       "  </tbody>\n",
       "</table>\n",
       "<p>5 rows × 23 columns</p>\n",
       "</div>"
      ],
      "text/plain": [
       "          Date    Year        Type    Country                   State  \\\n",
       "0  08 Dec-2023  2023.0  Unprovoked  AUSTRALIA              Queensland   \n",
       "1  04 Dec-2023  2023.0  Unprovoked    BAHAMAS  New Providence   Isoad   \n",
       "2  02 Dec-2023  2023.0  Unprovoked     MEXICO                 Jalisco   \n",
       "3  30 Nov-2023  2023.0  Unprovoked  AUSTRALIA              Queensland   \n",
       "4  21 Nov-2023  2023.0  Unprovoked    BAHAMAS    Grand  Bahama Island   \n",
       "\n",
       "               Location         Activity                              Name  \\\n",
       "0                 1770          Swimming                             malle   \n",
       "1        Sandals Resort  Paddle boarding          Lauren Erickson Van Wart   \n",
       "2  San Patricio Melaque         Swimming  Maria Fernandez Martinez Jimenez   \n",
       "3          Clack Island         Swimming                    Matthew Davitt   \n",
       "4           Tiger Beach     Scuba diving                            female   \n",
       "\n",
       "   Sex  Age  ...         Species                         Source  pdf  \\\n",
       "0  20s  NaN  ...              NaN                B. Myatt, GSAF  NaN   \n",
       "1    F   44  ...              NaN           NBC News, 12/4/2023  NaN   \n",
       "2    F   26  ...              NaN    News Channel 21, 12/3.2023  NaN   \n",
       "3    M   21  ...  1.8m bull shark           ABC Net, 11/30/2023  NaN   \n",
       "4    F   47  ...              NaN  Eye Witness News, 11/22/2023  NaN   \n",
       "\n",
       "  href formula href Case Number Case Number.1 original order Unnamed: 21  \\\n",
       "0          NaN  NaN         NaN           NaN            NaN         NaN   \n",
       "1          NaN  NaN         NaN           NaN            NaN         NaN   \n",
       "2          NaN  NaN         NaN           NaN            NaN         NaN   \n",
       "3          NaN  NaN         NaN           NaN            NaN         NaN   \n",
       "4          NaN  NaN         NaN           NaN            NaN         NaN   \n",
       "\n",
       "  Unnamed: 22  \n",
       "0         NaN  \n",
       "1         NaN  \n",
       "2         NaN  \n",
       "3         NaN  \n",
       "4         NaN  \n",
       "\n",
       "[5 rows x 23 columns]"
      ]
     },
     "execution_count": 39,
     "metadata": {},
     "output_type": "execute_result"
    }
   ],
   "source": [
    "df.head(5)"
   ]
  },
  {
   "cell_type": "markdown",
   "metadata": {},
   "source": [
    "<ins><strong>Displaying names and culumns type : </strong></ins>"
   ]
  },
  {
   "cell_type": "code",
   "execution_count": 40,
   "metadata": {},
   "outputs": [
    {
     "data": {
      "text/plain": [
       "Date               object\n",
       "Year              float64\n",
       "Type               object\n",
       "Country            object\n",
       "State              object\n",
       "Location           object\n",
       "Activity           object\n",
       "Name               object\n",
       "Sex                object\n",
       "Age                object\n",
       "Injury             object\n",
       "Unnamed: 11        object\n",
       "Time               object\n",
       "Species            object\n",
       "Source             object\n",
       "pdf                object\n",
       "href formula       object\n",
       "href               object\n",
       "Case Number        object\n",
       "Case Number.1      object\n",
       "original order    float64\n",
       "Unnamed: 21        object\n",
       "Unnamed: 22        object\n",
       "dtype: object"
      ]
     },
     "execution_count": 40,
     "metadata": {},
     "output_type": "execute_result"
    }
   ],
   "source": [
    "df.dtypes"
   ]
  },
  {
   "cell_type": "markdown",
   "metadata": {},
   "source": [
    "<ins><strong>Displaying number of unique values for each column : </strong></ins>"
   ]
  },
  {
   "cell_type": "code",
   "execution_count": 41,
   "metadata": {
    "scrolled": true
   },
   "outputs": [
    {
     "data": {
      "text/plain": [
       "Date              5983\n",
       "Year               258\n",
       "Type                11\n",
       "Country            224\n",
       "State              896\n",
       "Location          4495\n",
       "Activity          1585\n",
       "Name              5669\n",
       "Sex                  9\n",
       "Age                243\n",
       "Injury            4071\n",
       "Unnamed: 11         12\n",
       "Time               409\n",
       "Species           1671\n",
       "Source            5284\n",
       "pdf               6789\n",
       "href formula      6785\n",
       "href              6776\n",
       "Case Number       6777\n",
       "Case Number.1     6775\n",
       "original order    6797\n",
       "Unnamed: 21          1\n",
       "Unnamed: 22          2\n",
       "dtype: int64"
      ]
     },
     "execution_count": 41,
     "metadata": {},
     "output_type": "execute_result"
    }
   ],
   "source": [
    "df.nunique()"
   ]
  },
  {
   "cell_type": "code",
   "execution_count": 45,
   "id": "ec35ca0d",
   "metadata": {},
   "outputs": [
    {
     "data": {
      "text/plain": [
       "array([nan, 'stopped here'], dtype=object)"
      ]
     },
     "execution_count": 45,
     "metadata": {},
     "output_type": "execute_result"
    }
   ],
   "source": [
    "df[\"Unnamed: 21\"].unique()"
   ]
  },
  {
   "cell_type": "markdown",
   "metadata": {},
   "source": [
    "<ins><strong>Displaying number of unique values for each column that has less than 10 distinct values : </strong></ins>"
   ]
  },
  {
   "cell_type": "code",
   "execution_count": 46,
   "metadata": {},
   "outputs": [
    {
     "data": {
      "text/plain": [
       "Sex            9\n",
       "Unnamed: 21    1\n",
       "Unnamed: 22    2\n",
       "dtype: int64"
      ]
     },
     "execution_count": 46,
     "metadata": {},
     "output_type": "execute_result"
    }
   ],
   "source": [
    "df.nunique()[lambda x: x <= 10]"
   ]
  },
  {
   "cell_type": "markdown",
   "metadata": {},
   "source": [
    "#### <font color='CornflowerBlue'>c) Displaying unique values for each column that has less than 10 distinct value:</font>"
   ]
  },
  {
   "cell_type": "code",
   "execution_count": 47,
   "metadata": {},
   "outputs": [
    {
     "name": "stderr",
     "output_type": "stream",
     "text": [
      "C:\\Users\\rober\\AppData\\Local\\Temp\\ipykernel_12720\\3812802054.py:3: FutureWarning: Series.__getitem__ treating keys as positions is deprecated. In a future version, integer keys will always be treated as labels (consistent with DataFrame behavior). To access a value by position, use `ser.iloc[pos]`\n",
      "  if df.nunique()[i] <= 10:\n",
      "C:\\Users\\rober\\AppData\\Local\\Temp\\ipykernel_12720\\3812802054.py:4: FutureWarning: Series.__getitem__ treating keys as positions is deprecated. In a future version, integer keys will always be treated as labels (consistent with DataFrame behavior). To access a value by position, use `ser.iloc[pos]`\n",
      "  dico[df.columns[i]] = df.nunique()[i]\n"
     ]
    },
    {
     "name": "stdout",
     "output_type": "stream",
     "text": [
      "Sex : ['20s' 'F' 'M' nan ' M' 'M ' 'lli' 'M x 2' 'N' '.']\n",
      "Unnamed: 21 : [nan 'stopped here']\n",
      "Unnamed: 22 : [nan 'Teramo' 'change filename']\n"
     ]
    }
   ],
   "source": [
    "dico = {}\n",
    "for i in range(len(df.columns)):\n",
    "    if df.nunique()[i] <= 10:\n",
    "        dico[df.columns[i]] = df.nunique()[i]\n",
    "        \n",
    "for j in dico.keys():\n",
    "    print(j,\":\",df[j].unique())"
   ]
  },
  {
   "cell_type": "markdown",
   "metadata": {},
   "source": [
    "### <font color='MediumBlue'>2 - <ins> Identifying numerical variables and their specifications</ins>: <font color='violet'></font>"
   ]
  },
  {
   "cell_type": "markdown",
   "metadata": {},
   "source": [
    "<ins><strong><font color='BlueViolet'>Numerical</font></strong> **variables specifications**:</ins>\n",
    "\n",
    "From the data types output it is safe to assume that the following columns are numerical variables: \n",
    "- **Year**: <em><font color='DarkMagenta'> float64</font></em>\n",
    "- **original order**: <em><font color='DarkMagenta'> float64</font></em>\n",
    "\n",
    "However, all remaining columns shouldn't be necessary considered as categorical variables.\n",
    "Indeed, based on the name of the following columns and their values, these are numerical variables in nature:\n",
    "\n",
    "- **Age**:<font color='red'> should be</font> <em><font color='DarkMagenta'>int</font></em>\n",
    "- **Date**:<font color='red'> should be</font><em><font color='DarkMagenta'> Date</font></em>\n",
    "- **Time**:<font color='red'> should be</font><em><font color='DarkMagenta'> Date</font></em>\n",
    "\n",
    "\n",
    "\n",
    "Additionally, here are the following actions that can be suggested to \"fix\" some of the data discrepancies:\n",
    "- Modify \"Date\" type and format\n",
    "- Change \"Year\" type to int\n",
    "- Deal with missing values such as \"Sex\"\n",
    "- Address outliers (?)"
   ]
  },
  {
   "cell_type": "markdown",
   "metadata": {},
   "source": [
    "#### <font color='CornflowerBlue'>a) Continuous variables: </font>"
   ]
  },
  {
   "cell_type": "code",
   "execution_count": 48,
   "metadata": {},
   "outputs": [],
   "source": [
    "cont_var = []"
   ]
  },
  {
   "cell_type": "markdown",
   "metadata": {},
   "source": [
    "#### <font color='CornflowerBlue'>b) Discrete variables: </font>"
   ]
  },
  {
   "cell_type": "code",
   "execution_count": 49,
   "metadata": {},
   "outputs": [],
   "source": [
    "disc_var = []     # None for this dataset"
   ]
  },
  {
   "cell_type": "markdown",
   "metadata": {},
   "source": [
    "#### <font color='CornflowerBlue'>c) All numerical variables: </font>"
   ]
  },
  {
   "cell_type": "code",
   "execution_count": null,
   "metadata": {},
   "outputs": [],
   "source": [
    "num_var = disc_var + cont_var"
   ]
  },
  {
   "cell_type": "markdown",
   "metadata": {},
   "source": [
    "### <font color='MediumBlue'>3 - <ins> Identifying categorical variables and their specifications</ins>: <font color='violet'></font>"
   ]
  },
  {
   "cell_type": "markdown",
   "metadata": {},
   "source": [
    "<strong><font color='BlueViolet'>Categorical</font></strong> **variables specification**:\n",
    "\n",
    "- **xxx**: <ins><em><font color='DarkMagenta'>Nominal</font></em></ins>.There is no obvious order for that variable.\n",
    "- **xx**:<ins><em><font color='DarkMagenta'>Nominal</font></em></ins>.There is no obvious order for that variable.\n",
    "- **xxx**: <ins><em><font color='DarkMagenta'>Nominal</font></em></ins>. This is a boolean like variable with no particular order. \n",
    "- **xxx**: <ins><em><font color='DarkMagenta'>Nominal</font></em></ins>.This is a boolean like variable with no particular order.\n",
    "- **xxx**: <ins><em><font color='DarkMagenta'>Ordinal</font></em></ins>.Clearly, we can order the level of education, for example by ascending order.\n",
    "\n"
   ]
  },
  {
   "cell_type": "markdown",
   "metadata": {},
   "source": [
    "####  <font color='CornflowerBlue'>a) Nominal variables: </font>"
   ]
  },
  {
   "cell_type": "code",
   "execution_count": null,
   "metadata": {},
   "outputs": [],
   "source": [
    "nom_var = []"
   ]
  },
  {
   "cell_type": "markdown",
   "metadata": {},
   "source": [
    "#### <font color='CornflowerBlue'>b) Ordinal variables:</font>"
   ]
  },
  {
   "cell_type": "code",
   "execution_count": null,
   "metadata": {},
   "outputs": [],
   "source": [
    "ord_var = []"
   ]
  },
  {
   "cell_type": "markdown",
   "metadata": {},
   "source": [
    "####  <font color='CornflowerBlue'>c) All categorical variables:</font>"
   ]
  },
  {
   "cell_type": "code",
   "execution_count": null,
   "metadata": {},
   "outputs": [],
   "source": [
    "cat_var = nom_var + ord_var"
   ]
  },
  {
   "cell_type": "markdown",
   "metadata": {},
   "source": [
    "## <font color='DarkBlue'>III. <ins>Analysing Descriptive Statistics</ins>: <font color='blue'></font>"
   ]
  },
  {
   "cell_type": "markdown",
   "metadata": {},
   "source": [
    "### <font color='MediumBlue'>1 - <ins> Analysing numerical variables</ins>: <font color='violet'></font>"
   ]
  },
  {
   "cell_type": "markdown",
   "metadata": {},
   "source": [
    "#### <font color='CornflowerBlue'>a) Measuring Central Tendencies: <font color='violet'></font> "
   ]
  },
  {
   "cell_type": "markdown",
   "metadata": {},
   "source": [
    "#### i) <font color='ForestGreen'>Mean</font>"
   ]
  },
  {
   "cell_type": "code",
   "execution_count": null,
   "metadata": {},
   "outputs": [],
   "source": [
    "df[num_var].mean().round(2)"
   ]
  },
  {
   "cell_type": "markdown",
   "metadata": {},
   "source": [
    "\n"
   ]
  },
  {
   "cell_type": "markdown",
   "metadata": {},
   "source": [
    "#### ii)  <font color='ForestGreen'>Median</font>"
   ]
  },
  {
   "cell_type": "code",
   "execution_count": null,
   "metadata": {},
   "outputs": [],
   "source": [
    "df[num_var].median()"
   ]
  },
  {
   "cell_type": "markdown",
   "metadata": {},
   "source": []
  },
  {
   "cell_type": "markdown",
   "metadata": {},
   "source": [
    "#### iii)  <font color='ForestGreen'>Mode</font>"
   ]
  },
  {
   "cell_type": "code",
   "execution_count": null,
   "metadata": {},
   "outputs": [],
   "source": [
    "df[num_var].mode()"
   ]
  },
  {
   "cell_type": "markdown",
   "metadata": {},
   "source": []
  },
  {
   "cell_type": "markdown",
   "metadata": {},
   "source": [
    "**Findings on central tendencies**\n",
    "\n",
    "Based on our calculations and interpretations of central measures, we can make the following observations:\n",
    "\n",
    " "
   ]
  },
  {
   "cell_type": "markdown",
   "metadata": {},
   "source": [
    "#### <font color='CornflowerBlue'>b) Measuring Dispersion:</font> "
   ]
  },
  {
   "cell_type": "markdown",
   "metadata": {},
   "source": [
    "#### i) <font color='ForestGreen'>Standard Deviation</font>"
   ]
  },
  {
   "cell_type": "code",
   "execution_count": null,
   "metadata": {
    "scrolled": true
   },
   "outputs": [],
   "source": [
    "df[num_var].std().round(2)"
   ]
  },
  {
   "cell_type": "markdown",
   "metadata": {},
   "source": [
    "* **xxxx**: The Standard Deviation blablabla\n",
    "\n"
   ]
  },
  {
   "cell_type": "markdown",
   "metadata": {},
   "source": [
    "#### ii) <font color='ForestGreen'>Range</font>"
   ]
  },
  {
   "cell_type": "code",
   "execution_count": null,
   "metadata": {},
   "outputs": [],
   "source": [
    "df[num_var].max() - df[num_var].min()"
   ]
  },
  {
   "cell_type": "markdown",
   "metadata": {},
   "source": [
    "#### <font color='CornflowerBlue'>c)  Summarizing Statistics:</font> "
   ]
  },
  {
   "cell_type": "markdown",
   "metadata": {},
   "source": [
    "#### <font color='ForestGreen'> i) Statistics Summary: count, mean, standard deviation, min, quartiles, maximum</font>"
   ]
  },
  {
   "cell_type": "code",
   "execution_count": null,
   "metadata": {},
   "outputs": [],
   "source": [
    "df[num_var].describe().round(2)"
   ]
  },
  {
   "cell_type": "markdown",
   "metadata": {},
   "source": [
    "### <font color='MediumBlue'>2 - <ins> Analysing categorical variables</ins>: <font color='violet'></font>"
   ]
  },
  {
   "cell_type": "markdown",
   "metadata": {},
   "source": [
    "#### <font color='CornflowerBlue'>a) Measuring Frequency: </font>"
   ]
  },
  {
   "cell_type": "markdown",
   "metadata": {},
   "source": [
    "#### <font color='ForestGreen'> i) frequency in counts</font>"
   ]
  },
  {
   "cell_type": "code",
   "execution_count": null,
   "metadata": {},
   "outputs": [],
   "source": [
    "for k in cat_var:\n",
    "    print(f\"{df[k].value_counts()} \\n\")    "
   ]
  },
  {
   "cell_type": "markdown",
   "metadata": {},
   "source": [
    "#### <font color='ForestGreen'> ii) frequency in percentages</font>"
   ]
  },
  {
   "cell_type": "code",
   "execution_count": null,
   "metadata": {},
   "outputs": [],
   "source": [
    "for k in cat_var:\n",
    "    percentage = (df[k].value_counts() / df.shape[0]) * 100\n",
    "    print(f\"{percentage} \\n \")"
   ]
  },
  {
   "cell_type": "markdown",
   "id": "76505e0f",
   "metadata": {},
   "source": [
    "#### <font color='ForestGreen'> x) Cleaning Data Set </font>"
   ]
  },
  {
   "cell_type": "code",
   "execution_count": 73,
   "id": "1838b4b8",
   "metadata": {},
   "outputs": [
    {
     "data": {
      "text/plain": [
       "array(['unknown', 'F', 'M'], dtype=object)"
      ]
     },
     "execution_count": 73,
     "metadata": {},
     "output_type": "execute_result"
    }
   ],
   "source": [
    "# Pollyana\n",
    "\n",
    "df[\"Sex\"].unique()"
   ]
  },
  {
   "cell_type": "code",
   "execution_count": 58,
   "id": "e2a3270c",
   "metadata": {},
   "outputs": [],
   "source": [
    "df[\"Sex\"] = df[\"Sex\"].str.replace(\" \", \"\").str.replace(\"Mx2\", \"M\")"
   ]
  },
  {
   "cell_type": "code",
   "execution_count": 61,
   "id": "9bc380cd",
   "metadata": {},
   "outputs": [],
   "source": [
    "df[\"Sex\"] = df[\"Sex\"].apply(lambda x: x if (x =='F' or  x =='M') else \"unknown\")"
   ]
  },
  {
   "cell_type": "code",
   "execution_count": 68,
   "id": "1386becc",
   "metadata": {},
   "outputs": [
    {
     "data": {
      "text/plain": [
       "array(['unknown', 'F', 'M'], dtype=object)"
      ]
     },
     "execution_count": 68,
     "metadata": {},
     "output_type": "execute_result"
    }
   ],
   "source": [
    "df[\"Sex\"].unique()"
   ]
  },
  {
   "cell_type": "code",
   "execution_count": 67,
   "id": "be449b00",
   "metadata": {},
   "outputs": [],
   "source": [
    "del df[\"Unnamed: 21\"]"
   ]
  },
  {
   "cell_type": "code",
   "execution_count": 69,
   "id": "ac057e9b",
   "metadata": {},
   "outputs": [],
   "source": [
    "del df[\"Unnamed: 22\"]"
   ]
  },
  {
   "cell_type": "code",
   "execution_count": 71,
   "id": "cd79167a",
   "metadata": {},
   "outputs": [
    {
     "data": {
      "text/plain": [
       "Index(['Date', 'Year', 'Type', 'Country', 'State', 'Location', 'Activity',\n",
       "       'Name', 'Sex', 'Age', 'Injury', 'Unnamed: 11', 'Time', 'Species ',\n",
       "       'Source', 'pdf', 'href formula', 'href', 'Case Number', 'Case Number.1',\n",
       "       'original order'],\n",
       "      dtype='object')"
      ]
     },
     "execution_count": 71,
     "metadata": {},
     "output_type": "execute_result"
    }
   ],
   "source": [
    "df.columns"
   ]
  },
  {
   "cell_type": "code",
   "execution_count": 72,
   "id": "dc8e28e6",
   "metadata": {},
   "outputs": [
    {
     "data": {
      "text/plain": [
       "(6947, 21)"
      ]
     },
     "execution_count": 72,
     "metadata": {},
     "output_type": "execute_result"
    }
   ],
   "source": [
    "df.shape"
   ]
  }
 ],
 "metadata": {
  "kernelspec": {
   "display_name": "Python 3",
   "language": "python",
   "name": "python3"
  },
  "language_info": {
   "codemirror_mode": {
    "name": "ipython",
    "version": 3
   },
   "file_extension": ".py",
   "mimetype": "text/x-python",
   "name": "python",
   "nbconvert_exporter": "python",
   "pygments_lexer": "ipython3",
   "version": "3.9.5"
  }
 },
 "nbformat": 4,
 "nbformat_minor": 5
}
